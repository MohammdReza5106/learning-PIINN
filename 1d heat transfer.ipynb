{
 "cells": [
  {
   "cell_type": "code",
   "execution_count": 45,
   "metadata": {},
   "outputs": [],
   "source": [
    "import matplotlib.pyplot as pyplot\n",
    "import numpy as np"
   ]
  },
  {
   "cell_type": "code",
   "execution_count": 68,
   "metadata": {},
   "outputs": [
    {
     "name": "stdout",
     "output_type": "stream",
     "text": [
      "[[0. 0. 0. ... 0. 0. 0.]\n",
      " [0. 0. 0. ... 0. 0. 0.]\n",
      " [0. 0. 0. ... 0. 0. 0.]\n",
      " ...\n",
      " [0. 0. 0. ... 0. 0. 0.]\n",
      " [0. 0. 0. ... 0. 0. 0.]\n",
      " [0. 0. 0. ... 0. 0. 0.]]\n"
     ]
    }
   ],
   "source": [
    "xf=2\n",
    "tf=1\n",
    "k=0.86\n",
    "nx=100\n",
    "nt=10000\n",
    "dx=xf/nx\n",
    "dt=tf/nt\n",
    "x=np.linspace(0,xf,int(xf/dx))\n",
    "t=np.linspace(0,tf,int(tf/dt))\n",
    "\n",
    "hotside=100\n",
    "coldside=50\n",
    "#initialize temperature\n",
    "u=np.zeros((len(t),len(x)))\n",
    "print(u)"
   ]
  },
  {
   "cell_type": "code",
   "execution_count": 69,
   "metadata": {},
   "outputs": [
    {
     "name": "stdout",
     "output_type": "stream",
     "text": [
      "[[100.   0.   0. ...   0.   0.  50.]\n",
      " [100.   0.   0. ...   0.   0.  50.]\n",
      " [100.   0.   0. ...   0.   0.  50.]\n",
      " ...\n",
      " [100.   0.   0. ...   0.   0.  50.]\n",
      " [100.   0.   0. ...   0.   0.  50.]\n",
      " [100.   0.   0. ...   0.   0.  50.]]\n"
     ]
    },
    {
     "data": {
      "text/plain": [
       "(10000, 100)"
      ]
     },
     "execution_count": 69,
     "metadata": {},
     "output_type": "execute_result"
    }
   ],
   "source": [
    "#set boundary conditions\n",
    "u[:,0]=hotside\n",
    "u[:,-1]=coldside\n",
    "print(u)\n",
    "u.shape"
   ]
  },
  {
   "cell_type": "code",
   "execution_count": 70,
   "metadata": {},
   "outputs": [
    {
     "data": {
      "image/png": "[encoded data removed]",
      "text/plain": [
       "<Figure size 640x480 with 1 Axes>"
      ]
     },
     "metadata": {},
     "output_type": "display_data"
    }
   ],
   "source": [
    "pyplot.plot(x,u[0])\n",
    "pyplot.ylabel(\"temp\")\n",
    "pyplot.xlabel(\"x\")\n",
    "pyplot.show()"
   ]
  },
  {
   "cell_type": "code",
   "execution_count": 72,
   "metadata": {},
   "outputs": [],
   "source": [
    "for i in range(1,len(t)-1):\n",
    "    for j in range(1,len(x)-1):\n",
    "        u[i+1,j]=(k*(dt/(dx**2))* (u[i,j+1]- 2*u[i,j] + u[i,j-1] ))+ u[i,j]\n"
   ]
  },
  {
   "cell_type": "code",
   "execution_count": 74,
   "metadata": {},
   "outputs": [
    {
     "data": {
      "text/plain": [
       "array([[100.        ,   0.        ,   0.        , ...,   0.        ,\n",
       "          0.        ,  50.        ],\n",
       "       [100.        ,   0.        ,   0.        , ...,   0.        ,\n",
       "          0.        ,  50.        ],\n",
       "       [100.        ,  21.5       ,   0.        , ...,   0.        ,\n",
       "         10.75      ,  50.        ],\n",
       "       ...,\n",
       "       [100.        ,  99.14686889,  98.29408879, ...,  50.31499094,\n",
       "         50.15732067,  50.        ],\n",
       "       [100.        ,  99.14694436,  98.29423965, ...,  50.31514119,\n",
       "         50.15739583,  50.        ],\n",
       "       [100.        ,  99.14701981,  98.29439048, ...,  50.31529141,\n",
       "         50.15747098,  50.        ]])"
      ]
     },
     "execution_count": 74,
     "metadata": {},
     "output_type": "execute_result"
    }
   ],
   "source": [
    "u"
   ]
  },
  {
   "cell_type": "code",
   "execution_count": null,
   "metadata": {},
   "outputs": [],
   "source": []
  }
 ],
 "metadata": {
  "kernelspec": {
   "display_name": "Python 3",
   "language": "python",
   "name": "python3"
  },
  "language_info": {
   "codemirror_mode": {
    "name": "ipython",
    "version": 3
   },
   "file_extension": ".py",
   "mimetype": "text/x-python",
   "name": "python",
   "nbconvert_exporter": "python",
   "pygments_lexer": "ipython3",
   "version": "3.11.7"
  }
 },
 "nbformat": 4,
 "nbformat_minor": 2
}
